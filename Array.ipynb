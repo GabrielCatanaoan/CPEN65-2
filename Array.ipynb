{
  "nbformat": 4,
  "nbformat_minor": 0,
  "metadata": {
    "colab": {
      "provenance": [],
      "authorship_tag": "ABX9TyNOAWqveUTB8h/bHnWozDsf",
      "include_colab_link": true
    },
    "kernelspec": {
      "name": "python3",
      "display_name": "Python 3"
    },
    "language_info": {
      "name": "python"
    }
  },
  "cells": [
    {
      "cell_type": "markdown",
      "metadata": {
        "id": "view-in-github",
        "colab_type": "text"
      },
      "source": [
        "<a href=\"https://colab.research.google.com/github/GabrielCatanaoan/CPEN65-2/blob/main/Array.ipynb\" target=\"_parent\"><img src=\"https://colab.research.google.com/assets/colab-badge.svg\" alt=\"Open In Colab\"/></a>"
      ]
    },
    {
      "cell_type": "code",
      "execution_count": 14,
      "metadata": {
        "colab": {
          "base_uri": "https://localhost:8080/"
        },
        "id": "H4y1EJ_-psBM",
        "outputId": "2a712415-7720-4cb6-c807-864871d2955f"
      },
      "outputs": [
        {
          "output_type": "stream",
          "name": "stdout",
          "text": [
            "Array[0] = cat\n",
            "Array[1] = dog\n"
          ]
        }
      ],
      "source": [
        "#Accessing the elements in an Array\n",
        "\n",
        "animals = [\"cat\",\"dog\",\"fish\"]\n",
        "x = animals[0]\n",
        "y = animals[1]\n",
        "z = animals[2]\n",
        "print(\"Array[0] =\",x)\n",
        "print(\"Array[1] =\",y)"
      ]
    },
    {
      "cell_type": "code",
      "source": [
        "#modifying the elements in the Array\n",
        "animals = [\"cat\",\"dog\",\"fish\"]\n",
        "animals[0] = \"monkey\"\n",
        "x = animals[0]\n",
        "print(\"Array[0] = \",x)\n",
        "print(animals)"
      ],
      "metadata": {
        "colab": {
          "base_uri": "https://localhost:8080/"
        },
        "id": "Pwy6tifIqLGC",
        "outputId": "f0b54beb-3afe-4d1a-e057-136eca2119b9"
      },
      "execution_count": 13,
      "outputs": [
        {
          "output_type": "stream",
          "name": "stdout",
          "text": [
            "Array[0] =  monkey\n",
            "['monkey', 'dog', 'fish']\n"
          ]
        }
      ]
    },
    {
      "cell_type": "code",
      "source": [
        "#length of the Array\n",
        "animals = [\"monkey\",\"cat\",\"dog\",\"fish\"]\n",
        "v = len(animals)\n",
        "print(v)"
      ],
      "metadata": {
        "colab": {
          "base_uri": "https://localhost:8080/"
        },
        "id": "PODxsuLUqNZT",
        "outputId": "6cbb6632-ea67-407c-f6e8-514222e0ce40"
      },
      "execution_count": 3,
      "outputs": [
        {
          "output_type": "stream",
          "name": "stdout",
          "text": [
            "4\n"
          ]
        }
      ]
    },
    {
      "cell_type": "code",
      "source": [
        "#looping Array Elements\n",
        "animals = [\"monkey\",\"cat\",\"dog\",\"fish\", \"bird\"]\n",
        "for x in animals:\n",
        "  print(x)"
      ],
      "metadata": {
        "colab": {
          "base_uri": "https://localhost:8080/"
        },
        "id": "1NpI3hD_qPIy",
        "outputId": "f119dd9f-567b-4ecd-a360-fbd2183f1d65"
      },
      "execution_count": 12,
      "outputs": [
        {
          "output_type": "stream",
          "name": "stdout",
          "text": [
            "monkey\n",
            "cat\n",
            "dog\n",
            "fish\n",
            "bird\n"
          ]
        }
      ]
    },
    {
      "cell_type": "code",
      "source": [
        "animals = [\"monkey\",\"cat\",\"dog\",\"fish\", \"bird\"]\n",
        "for index , val in enumerate(animals):\n",
        "  print(index,val)"
      ],
      "metadata": {
        "colab": {
          "base_uri": "https://localhost:8080/"
        },
        "id": "kjGGWCEcqQ35",
        "outputId": "02fd5b1a-a07c-4180-f4e2-cdb9f7ed9a08"
      },
      "execution_count": 11,
      "outputs": [
        {
          "output_type": "stream",
          "name": "stdout",
          "text": [
            "0 monkey\n",
            "1 cat\n",
            "2 dog\n",
            "3 fish\n",
            "4 bird\n"
          ]
        }
      ]
    },
    {
      "cell_type": "code",
      "source": [
        "#adding elements in the array\n",
        "animals = [\"monkey\",\"cat\",\"dog\",\"fish\", \"bird\"]\n",
        "animals.append(\"lion\")\n",
        "print(animals)"
      ],
      "metadata": {
        "colab": {
          "base_uri": "https://localhost:8080/"
        },
        "id": "fVpndV-Sqd4B",
        "outputId": "747785dd-c07d-499d-e7e7-429968ca5426"
      },
      "execution_count": 10,
      "outputs": [
        {
          "output_type": "stream",
          "name": "stdout",
          "text": [
            "['monkey', 'cat', 'dog', 'fish', 'bird', 'lion']\n"
          ]
        }
      ]
    },
    {
      "cell_type": "code",
      "source": [
        "#create a pythin program to insert a new item ('11') before the second element in an existing array,\n",
        "#original array: numbers = [1,2,3,4,5,6,7,8,9,10,]\n",
        "numbers = [1,2,3,4,5,6,7,8,9,10,]\n",
        "numbers.insert(1,11)\n",
        "print(numbers)"
      ],
      "metadata": {
        "colab": {
          "base_uri": "https://localhost:8080/"
        },
        "id": "vXPvcFKdqfah",
        "outputId": "e6ce51d2-6d59-44bb-e760-f377f5be44b7"
      },
      "execution_count": 7,
      "outputs": [
        {
          "output_type": "stream",
          "name": "stdout",
          "text": [
            "[1, 11, 2, 3, 4, 5, 6, 7, 8, 9, 10]\n"
          ]
        }
      ]
    },
    {
      "cell_type": "code",
      "source": [
        "#removing elements in an array\n",
        "animals = [\"monkey\",\"cat\",\"dog\",\"fish\", \"bird\"]\n",
        "animals.pop(1)\n",
        "print(animals)"
      ],
      "metadata": {
        "colab": {
          "base_uri": "https://localhost:8080/"
        },
        "id": "9KXrf9iNqgyZ",
        "outputId": "e9983aa2-74e6-4afb-c501-97624ffc082e"
      },
      "execution_count": 9,
      "outputs": [
        {
          "output_type": "stream",
          "name": "stdout",
          "text": [
            "['monkey', 'dog', 'fish', 'bird']\n"
          ]
        }
      ]
    }
  ]
}