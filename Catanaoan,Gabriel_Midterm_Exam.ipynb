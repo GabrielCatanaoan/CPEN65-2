{
  "nbformat": 4,
  "nbformat_minor": 0,
  "metadata": {
    "colab": {
      "provenance": [],
      "authorship_tag": "ABX9TyP33DqtRLNp0KZDbL4vF07W",
      "include_colab_link": true
    },
    "kernelspec": {
      "name": "python3",
      "display_name": "Python 3"
    },
    "language_info": {
      "name": "python"
    }
  },
  "cells": [
    {
      "cell_type": "markdown",
      "metadata": {
        "id": "view-in-github",
        "colab_type": "text"
      },
      "source": [
        "<a href=\"https://colab.research.google.com/github/GabrielCatanaoan/CPEN65-2/blob/main/Catanaoan%2CGabriel_Midterm_Exam.ipynb\" target=\"_parent\"><img src=\"https://colab.research.google.com/assets/colab-badge.svg\" alt=\"Open In Colab\"/></a>"
      ]
    },
    {
      "cell_type": "markdown",
      "source": [
        "Write a Python program to create an array of 10 integers and display the array\n",
        "items. Access individual elements through indexes and compute for the sum."
      ],
      "metadata": {
        "id": "xg9QODC8gs41"
      }
    },
    {
      "cell_type": "code",
      "source": [
        "array = [1,2,3,4,5,6,7,8,9,10]\n",
        "for index, val in enumerate(array):\n",
        "  print('index =',index,'VALUE =',val)\n",
        "sum=0\n",
        "for i in range(len(array)):    \n",
        "   sum = sum + array[i]\n",
        "print(\"sum of all elements =\",(sum))"
      ],
      "metadata": {
        "colab": {
          "base_uri": "https://localhost:8080/"
        },
        "id": "U4tIAPF1l527",
        "outputId": "3203af3e-ca48-44f6-f97f-2a0bd310c195"
      },
      "execution_count": 114,
      "outputs": [
        {
          "output_type": "stream",
          "name": "stdout",
          "text": [
            "index = 0 VALUE = 1\n",
            "index = 1 VALUE = 2\n",
            "index = 2 VALUE = 3\n",
            "index = 3 VALUE = 4\n",
            "index = 4 VALUE = 5\n",
            "index = 5 VALUE = 6\n",
            "index = 6 VALUE = 7\n",
            "index = 7 VALUE = 8\n",
            "index = 8 VALUE = 9\n",
            "index = 9 VALUE = 10\n",
            "sum of all elements = 55\n"
          ]
        }
      ]
    },
    {
      "cell_type": "markdown",
      "source": [
        "Write a Python program to append a new item to the end of the array. Original\n",
        "array: numbers = [1, 2, 3, 4, 5, 6, 7, 8, 9, 10]"
      ],
      "metadata": {
        "id": "MwwBoasfhiD0"
      }
    },
    {
      "cell_type": "code",
      "source": [
        "numbers=[1,2,3,4,5,6,7,8,9,10]\n",
        "numbers.append(100)\n",
        "print(numbers)"
      ],
      "metadata": {
        "colab": {
          "base_uri": "https://localhost:8080/"
        },
        "id": "h_gF9tcahi0M",
        "outputId": "7e402fd1-4b7a-4208-c9fc-cf10cc4d4da3"
      },
      "execution_count": 8,
      "outputs": [
        {
          "output_type": "stream",
          "name": "stdout",
          "text": [
            "[1, 2, 3, 4, 5, 6, 7, 8, 9, 10, 100]\n"
          ]
        }
      ]
    },
    {
      "cell_type": "markdown",
      "source": [
        "Write a Python program to insert a new item before the second element in an\n",
        "existing array. Original array: numbers = [1, 2, 3, 4, 5, 6, 7, 8, 9, 10]"
      ],
      "metadata": {
        "id": "Bt0C32yfifiD"
      }
    },
    {
      "cell_type": "code",
      "source": [
        "numbers=[1,2,3,4,5,6,7,8,9,10]\n",
        "numbers.insert(1,100)\n",
        "print(numbers)"
      ],
      "metadata": {
        "colab": {
          "base_uri": "https://localhost:8080/"
        },
        "id": "XGdaJ6fpiqaE",
        "outputId": "2d3a9868-55da-4a9c-e308-df860f87d737"
      },
      "execution_count": 10,
      "outputs": [
        {
          "output_type": "stream",
          "name": "stdout",
          "text": [
            "[1, 100, 2, 3, 4, 5, 6, 7, 8, 9, 10]\n"
          ]
        }
      ]
    },
    {
      "cell_type": "markdown",
      "source": [
        "Write a Python program to reverse the order of the items in the array. Original\n",
        "array: numbers = [5, 4, 3, 2, 1]"
      ],
      "metadata": {
        "id": "6645TbJvjDhk"
      }
    },
    {
      "cell_type": "code",
      "source": [
        "numbers=[5,4,3,2,1]\n",
        "numbers.reverse()\n",
        "print(numbers)\n"
      ],
      "metadata": {
        "colab": {
          "base_uri": "https://localhost:8080/"
        },
        "id": "kdd9BbaXjEJ8",
        "outputId": "ecbc41c6-eae0-436d-81be-7d80ef89ee4d"
      },
      "execution_count": 15,
      "outputs": [
        {
          "output_type": "stream",
          "name": "stdout",
          "text": [
            "[1, 2, 3, 4, 5]\n"
          ]
        }
      ]
    },
    {
      "cell_type": "markdown",
      "source": [
        "Write a Python program to get the length of the array. Original array: numbers =\n",
        "[5, 4, 3, 2, 1]"
      ],
      "metadata": {
        "id": "tazJDh8hjtZP"
      }
    },
    {
      "cell_type": "code",
      "source": [
        "numbers=[5,4,3,2,1]\n",
        "print(len(numbers))\n"
      ],
      "metadata": {
        "colab": {
          "base_uri": "https://localhost:8080/"
        },
        "id": "-gaYjHW0jvvr",
        "outputId": "08774f59-fb34-4a7e-a61a-dfe896be4ca9"
      },
      "execution_count": 19,
      "outputs": [
        {
          "output_type": "stream",
          "name": "stdout",
          "text": [
            "5\n"
          ]
        }
      ]
    }
  ]
}