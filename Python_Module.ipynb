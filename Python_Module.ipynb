{
  "nbformat": 4,
  "nbformat_minor": 0,
  "metadata": {
    "colab": {
      "provenance": [],
      "authorship_tag": "ABX9TyODEakTbfEryyM1v1riH+Hw",
      "include_colab_link": true
    },
    "kernelspec": {
      "name": "python3",
      "display_name": "Python 3"
    },
    "language_info": {
      "name": "python"
    }
  },
  "cells": [
    {
      "cell_type": "markdown",
      "metadata": {
        "id": "view-in-github",
        "colab_type": "text"
      },
      "source": [
        "<a href=\"https://colab.research.google.com/github/GabrielCatanaoan/CPEN65-2/blob/main/Python_Module.ipynb\" target=\"_parent\"><img src=\"https://colab.research.google.com/assets/colab-badge.svg\" alt=\"Open In Colab\"/></a>"
      ]
    },
    {
      "cell_type": "markdown",
      "source": [
        "Array Module in Pyhton"
      ],
      "metadata": {
        "id": "vukOgOLRNoqQ"
      }
    },
    {
      "cell_type": "code",
      "source": [
        "#getting typecodes\n",
        "import array as arr\n",
        "array.typecodes\n",
        "\n",
        "a=arr.array('i',[1,2,3,4,5])\n",
        "print(a.typecode)\n",
        "b=arr.array('f',[1.5,2.5,3.5,4.5,5.5])\n",
        "print(b.typecode)"
      ],
      "metadata": {
        "colab": {
          "base_uri": "https://localhost:8080/"
        },
        "id": "NLUheCoUNs1l",
        "outputId": "c38eee83-fb29-4dc4-abb9-91daa388f0b5"
      },
      "execution_count": 7,
      "outputs": [
        {
          "output_type": "stream",
          "name": "stdout",
          "text": [
            "i\n",
            "f\n"
          ]
        }
      ]
    },
    {
      "cell_type": "code",
      "source": [
        "#what are the output of these codes?\n",
        "import array as arr\n",
        "a=arr.array('i',[4,5,6,7])\n",
        "print(a)\n",
        "c=a.insert(1,2)\n",
        "print(a)\n",
        "a.insert(-1,0)\n",
        "print(a)\n",
        "a.insert(6,8)\n",
        "print(a)\n",
        "a.insert(10,-1)\n",
        "a"
      ],
      "metadata": {
        "colab": {
          "base_uri": "https://localhost:8080/"
        },
        "id": "ZywheGmqPn-K",
        "outputId": "a8cc29de-9e85-4967-8197-eeccc087ba7b"
      },
      "execution_count": 17,
      "outputs": [
        {
          "output_type": "stream",
          "name": "stdout",
          "text": [
            "array('i', [4, 5, 6, 7])\n",
            "array('i', [4, 2, 5, 6, 7])\n",
            "array('i', [4, 2, 5, 6, 0, 7])\n",
            "array('i', [4, 2, 5, 6, 0, 7, 8])\n"
          ]
        },
        {
          "output_type": "execute_result",
          "data": {
            "text/plain": [
              "array('i', [4, 2, 5, 6, 0, 7, 8, -1])"
            ]
          },
          "metadata": {},
          "execution_count": 17
        }
      ]
    },
    {
      "cell_type": "code",
      "source": [
        "#Pyhton program to create a singly linked of vowel in English\n",
        "#Node class\n",
        "\n",
        "class Node:\n",
        "  #function to initialize the node object\n",
        "  def __init__(self,data):\n",
        "    self.data=data  #assign data\n",
        "    self.next= None #initialize as null/empty\n",
        "\n",
        "#Linked list that contains node object\n",
        "\n",
        "class LinkedList:\n",
        "  def __init__(self):\n",
        "    self.head= None\n",
        "  def printlist(self):\n",
        "    temp= self.head\n",
        "    while(temp):\n",
        "      print(temp.data)\n",
        "      temp=temp.next\n",
        "#code execution starting from empty list\n",
        "llist=LinkedList()\n",
        "llist.head=Node('a')\n",
        "second=Node('e')\n",
        "third=Node('i')\n",
        "fourth=Node('o')\n",
        "fifth=Node('u')\n",
        "\n",
        "llist.head.next=second\n",
        "second.next=third\n",
        "third.next=fourth\n",
        "fourth.next=fifth\n",
        "\n",
        "llist.printlist()"
      ],
      "metadata": {
        "colab": {
          "base_uri": "https://localhost:8080/"
        },
        "id": "lRlXYMO7VTv1",
        "outputId": "a4b835cf-219d-48a5-dc69-a38599909db3"
      },
      "execution_count": 22,
      "outputs": [
        {
          "output_type": "stream",
          "name": "stdout",
          "text": [
            "a\n",
            "e\n",
            "i\n",
            "o\n",
            "u\n"
          ]
        }
      ]
    }
  ]
}